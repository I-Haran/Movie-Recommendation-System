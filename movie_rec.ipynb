{
 "cells": [
  {
   "cell_type": "markdown",
   "id": "e1491e11-2187-4a0e-b8d6-a947d15eb9f8",
   "metadata": {},
   "source": [
    "## Movie Recomendation System"
   ]
  },
  {
   "cell_type": "code",
   "execution_count": null,
   "id": "56bc2779-1633-4018-b570-dfb495116d53",
   "metadata": {},
   "outputs": [],
   "source": [
    "'''\n",
    "The Movie Recommendation System Displays the Id of the movies which are similar to the input Id.\n",
    "This model uses the Technique of User-based Collaborative Filtering.\n",
    "'''"
   ]
  },
  {
   "cell_type": "markdown",
   "id": "e8f36041-7feb-424d-a6cc-aaa2b0a74346",
   "metadata": {},
   "source": [
    "### Importing Libraries"
   ]
  },
  {
   "cell_type": "code",
   "execution_count": 42,
   "id": "7db22750-fe0b-4a3c-aba7-309bbba9f997",
   "metadata": {},
   "outputs": [],
   "source": [
    "import pandas as pd\n",
    "from sklearn.metrics.pairwise import cosine_similarity"
   ]
  },
  {
   "cell_type": "markdown",
   "id": "ee8292ea-09ea-4f76-9dc5-e2b2103c0bbb",
   "metadata": {},
   "source": [
    "### Loading Dataset"
   ]
  },
  {
   "cell_type": "code",
   "execution_count": 43,
   "id": "28f67f78-c49b-4fc8-8119-78bef74549a2",
   "metadata": {},
   "outputs": [],
   "source": [
    "ratings_data = pd.read_csv('ratings.csv')"
   ]
  },
  {
   "cell_type": "markdown",
   "id": "3e54e3ea-a451-4bae-a79b-77f3bda5ddc9",
   "metadata": {},
   "source": [
    "### Knowing Data"
   ]
  },
  {
   "cell_type": "code",
   "execution_count": 44,
   "id": "4099d4cd-bd85-439c-9bfb-363c8f68b67d",
   "metadata": {},
   "outputs": [
    {
     "name": "stdout",
     "output_type": "stream",
     "text": [
      "<class 'pandas.core.frame.DataFrame'>\n",
      "RangeIndex: 1048575 entries, 0 to 1048574\n",
      "Data columns (total 4 columns):\n",
      " #   Column     Non-Null Count    Dtype  \n",
      "---  ------     --------------    -----  \n",
      " 0   userId     1048575 non-null  int64  \n",
      " 1   movieId    1048575 non-null  int64  \n",
      " 2   rating     1048575 non-null  float64\n",
      " 3   timestamp  1048575 non-null  int64  \n",
      "dtypes: float64(1), int64(3)\n",
      "memory usage: 32.0 MB\n"
     ]
    }
   ],
   "source": [
    "ratings_data.info()"
   ]
  },
  {
   "cell_type": "code",
   "execution_count": 45,
   "id": "0acef631-1249-4640-804b-d511439453be",
   "metadata": {},
   "outputs": [
    {
     "data": {
      "text/html": [
       "<div>\n",
       "<style scoped>\n",
       "    .dataframe tbody tr th:only-of-type {\n",
       "        vertical-align: middle;\n",
       "    }\n",
       "\n",
       "    .dataframe tbody tr th {\n",
       "        vertical-align: top;\n",
       "    }\n",
       "\n",
       "    .dataframe thead th {\n",
       "        text-align: right;\n",
       "    }\n",
       "</style>\n",
       "<table border=\"1\" class=\"dataframe\">\n",
       "  <thead>\n",
       "    <tr style=\"text-align: right;\">\n",
       "      <th></th>\n",
       "      <th>userId</th>\n",
       "      <th>movieId</th>\n",
       "      <th>rating</th>\n",
       "      <th>timestamp</th>\n",
       "    </tr>\n",
       "  </thead>\n",
       "  <tbody>\n",
       "    <tr>\n",
       "      <th>count</th>\n",
       "      <td>1.048575e+06</td>\n",
       "      <td>1.048575e+06</td>\n",
       "      <td>1.048575e+06</td>\n",
       "      <td>1.048575e+06</td>\n",
       "    </tr>\n",
       "    <tr>\n",
       "      <th>mean</th>\n",
       "      <td>5.378787e+03</td>\n",
       "      <td>1.615889e+04</td>\n",
       "      <td>3.537035e+00</td>\n",
       "      <td>1.173062e+09</td>\n",
       "    </tr>\n",
       "    <tr>\n",
       "      <th>std</th>\n",
       "      <td>3.064842e+03</td>\n",
       "      <td>3.126738e+04</td>\n",
       "      <td>1.045203e+00</td>\n",
       "      <td>2.045385e+08</td>\n",
       "    </tr>\n",
       "    <tr>\n",
       "      <th>min</th>\n",
       "      <td>1.000000e+00</td>\n",
       "      <td>1.000000e+00</td>\n",
       "      <td>5.000000e-01</td>\n",
       "      <td>8.255829e+08</td>\n",
       "    </tr>\n",
       "    <tr>\n",
       "      <th>25%</th>\n",
       "      <td>2.728000e+03</td>\n",
       "      <td>1.080000e+03</td>\n",
       "      <td>3.000000e+00</td>\n",
       "      <td>9.922286e+08</td>\n",
       "    </tr>\n",
       "    <tr>\n",
       "      <th>50%</th>\n",
       "      <td>5.383000e+03</td>\n",
       "      <td>2.642000e+03</td>\n",
       "      <td>3.500000e+00</td>\n",
       "      <td>1.159314e+09</td>\n",
       "    </tr>\n",
       "    <tr>\n",
       "      <th>75%</th>\n",
       "      <td>8.060000e+03</td>\n",
       "      <td>6.643000e+03</td>\n",
       "      <td>4.000000e+00</td>\n",
       "      <td>1.354659e+09</td>\n",
       "    </tr>\n",
       "    <tr>\n",
       "      <th>max</th>\n",
       "      <td>1.065600e+04</td>\n",
       "      <td>1.762710e+05</td>\n",
       "      <td>5.000000e+00</td>\n",
       "      <td>1.501822e+09</td>\n",
       "    </tr>\n",
       "  </tbody>\n",
       "</table>\n",
       "</div>"
      ],
      "text/plain": [
       "             userId       movieId        rating     timestamp\n",
       "count  1.048575e+06  1.048575e+06  1.048575e+06  1.048575e+06\n",
       "mean   5.378787e+03  1.615889e+04  3.537035e+00  1.173062e+09\n",
       "std    3.064842e+03  3.126738e+04  1.045203e+00  2.045385e+08\n",
       "min    1.000000e+00  1.000000e+00  5.000000e-01  8.255829e+08\n",
       "25%    2.728000e+03  1.080000e+03  3.000000e+00  9.922286e+08\n",
       "50%    5.383000e+03  2.642000e+03  3.500000e+00  1.159314e+09\n",
       "75%    8.060000e+03  6.643000e+03  4.000000e+00  1.354659e+09\n",
       "max    1.065600e+04  1.762710e+05  5.000000e+00  1.501822e+09"
      ]
     },
     "execution_count": 45,
     "metadata": {},
     "output_type": "execute_result"
    }
   ],
   "source": [
    "ratings_data.describe()"
   ]
  },
  {
   "cell_type": "code",
   "execution_count": 46,
   "id": "3308cb6f-bfc8-42a7-b05b-345a06cbe737",
   "metadata": {},
   "outputs": [
    {
     "data": {
      "text/plain": [
       "userId       0\n",
       "movieId      0\n",
       "rating       0\n",
       "timestamp    0\n",
       "dtype: int64"
      ]
     },
     "execution_count": 46,
     "metadata": {},
     "output_type": "execute_result"
    }
   ],
   "source": [
    "ratings_data.isnull().sum()"
   ]
  },
  {
   "cell_type": "markdown",
   "id": "e8688921-0df5-44b3-966d-dbbe86affb4e",
   "metadata": {},
   "source": [
    "### User Matrix"
   ]
  },
  {
   "cell_type": "markdown",
   "id": "d570239e-3d94-46bf-af92-89975978ea63",
   "metadata": {},
   "source": [
    "#### Collaborative Filtering"
   ]
  },
  {
   "cell_type": "code",
   "execution_count": 47,
   "id": "3bfb8191-69dd-4532-9d87-327fa1b4a810",
   "metadata": {},
   "outputs": [],
   "source": [
    "user_item_matrix = ratings_data.pivot_table(values='rating', index='userId', columns='movieId')\n",
    "user_item_matrix = user_item_matrix.fillna(0)"
   ]
  },
  {
   "cell_type": "markdown",
   "id": "816e49cf-af72-4e92-9d8e-5250aa65c102",
   "metadata": {},
   "source": [
    "### Cosine Similarity"
   ]
  },
  {
   "cell_type": "code",
   "execution_count": 48,
   "id": "522ae700-e3a9-41c6-b1e7-a65905ffa697",
   "metadata": {},
   "outputs": [
    {
     "name": "stderr",
     "output_type": "stream",
     "text": [
      "C:\\Users\\welcome\\AppData\\Local\\Programs\\Python\\Python310\\lib\\site-packages\\sklearn\\utils\\extmath.py:192: RuntimeWarning: invalid value encountered in matmul\n",
      "  ret = a @ b\n"
     ]
    }
   ],
   "source": [
    "user_similarity = cosine_similarity(user_item_matrix)"
   ]
  },
  {
   "cell_type": "markdown",
   "id": "b5e09547-8b27-4774-96ae-d1a1bbcd828e",
   "metadata": {},
   "source": [
    "### Function Defining"
   ]
  },
  {
   "cell_type": "code",
   "execution_count": 49,
   "id": "2c2fe7bb-6060-49d1-a342-d74cb0f43e5f",
   "metadata": {},
   "outputs": [],
   "source": [
    "def recommend(user_id, user_item_matrix, user_similarity, top_n=10):\n",
    "    users = user_similarity[user_id].argsort()[-top_n:][::-1]\n",
    "    user_rating = user_item_matrix.iloc[users]\n",
    "\n",
    "    prediction = (user_rating.T @ user_similarity[user_id][users]) / user_similarity[user_id][users].sum()\n",
    "\n",
    "    recommendation = user_item_matrix.columns[user_item_matrix.iloc[user_id] == 0][prediction.argsort()[-top_n:][::-1]]\n",
    "\n",
    "    return recommendation.tolist()"
   ]
  },
  {
   "cell_type": "markdown",
   "id": "d5de2ef3-cc47-4bc1-87ed-c48591ae11e4",
   "metadata": {},
   "source": [
    "### Checking with Recommendation"
   ]
  },
  {
   "cell_type": "code",
   "execution_count": 50,
   "id": "ad1347fc-fe74-4206-a28f-e47fc4c3b834",
   "metadata": {},
   "outputs": [
    {
     "name": "stdout",
     "output_type": "stream",
     "text": [
      "[2632, 1200, 261, 2568, 12, 528, 2720, 954, 2238, 3584]\n"
     ]
    }
   ],
   "source": [
    "user_id = 5\n",
    "rec = recommend(user_id, user_item_matrix, user_similarity)\n",
    "print(rec)"
   ]
  }
 ],
 "metadata": {
  "kernelspec": {
   "display_name": "Python 3 (ipykernel)",
   "language": "python",
   "name": "python3"
  },
  "language_info": {
   "codemirror_mode": {
    "name": "ipython",
    "version": 3
   },
   "file_extension": ".py",
   "mimetype": "text/x-python",
   "name": "python",
   "nbconvert_exporter": "python",
   "pygments_lexer": "ipython3",
   "version": "3.10.0"
  }
 },
 "nbformat": 4,
 "nbformat_minor": 5
}
