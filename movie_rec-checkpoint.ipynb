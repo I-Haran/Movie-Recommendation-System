{
 "cells": [
  {
   "cell_type": "markdown",
   "id": "e1491e11-2187-4a0e-b8d6-a947d15eb9f8",
   "metadata": {},
   "source": [
    "## Movie Recomendation "
   ]
  },
  {
   "cell_type": "code",
   "execution_count": 1,
   "id": "7db22750-fe0b-4a3c-aba7-309bbba9f997",
   "metadata": {},
   "outputs": [],
   "source": [
    "import pandas as pd\n",
    "from sklearn.metrics.pairwise import cosine_similarity"
   ]
  },
  {
   "cell_type": "code",
   "execution_count": 2,
   "id": "28f67f78-c49b-4fc8-8119-78bef74549a2",
   "metadata": {},
   "outputs": [],
   "source": [
    "# Load the ratings dataset (assuming CSV format)\n",
    "ratings_data = pd.read_csv('ratings.csv')"
   ]
  },
  {
   "cell_type": "code",
   "execution_count": 3,
   "id": "3bfb8191-69dd-4532-9d87-327fa1b4a810",
   "metadata": {},
   "outputs": [],
   "source": [
    "user_item_matrix = ratings_data.pivot_table(values='rating', index='userId', columns='movieId')\n",
    "# Fill missing values with 0 (optional)\n",
    "user_item_matrix = user_item_matrix.fillna(0)"
   ]
  },
  {
   "cell_type": "code",
   "execution_count": 4,
   "id": "522ae700-e3a9-41c6-b1e7-a65905ffa697",
   "metadata": {},
   "outputs": [
    {
     "name": "stderr",
     "output_type": "stream",
     "text": [
      "C:\\Users\\welcome\\AppData\\Local\\Programs\\Python\\Python310\\lib\\site-packages\\sklearn\\utils\\extmath.py:192: RuntimeWarning: invalid value encountered in matmul\n",
      "  ret = a @ b\n"
     ]
    }
   ],
   "source": [
    "user_similarity = cosine_similarity(user_item_matrix)"
   ]
  },
  {
   "cell_type": "code",
   "execution_count": 13,
   "id": "2c2fe7bb-6060-49d1-a342-d74cb0f43e5f",
   "metadata": {},
   "outputs": [],
   "source": [
    "def recommend(user_id, user_item_matrix, user_similarity, top_n=10):\n",
    "    users = user_similarity[user_id].argsort()[-top_n:][::-1]\n",
    "    user_rating = user_item_matrix.iloc[users]\n",
    "\n",
    "    prediction = (user_rating.T @ user_similarity[user_id][users]) / user_similarity[user_id][users].sum()\n",
    "\n",
    "    recommendation = user_item_matrix.columns[user_item_matrix.iloc[user_id] == 0][prediction.argsort()[-top_n:][::-1]]\n",
    "\n",
    "    return recommendation.tolist()"
   ]
  },
  {
   "cell_type": "code",
   "execution_count": 32,
   "id": "ad1347fc-fe74-4206-a28f-e47fc4c3b834",
   "metadata": {},
   "outputs": [
    {
     "name": "stdout",
     "output_type": "stream",
     "text": [
      "[357, 595, 4743, 4033, 600, 4286, 4244, 4269, 4157, 4176]\n"
     ]
    }
   ],
   "source": [
    "user_id = 16\n",
    "rec = recommend(user_id, user_item_matrix, user_similarity)\n",
    "print(rec)"
   ]
  },
  {
   "cell_type": "code",
   "execution_count": null,
   "id": "56bc2779-1633-4018-b570-dfb495116d53",
   "metadata": {},
   "outputs": [],
   "source": []
  }
 ],
 "metadata": {
  "kernelspec": {
   "display_name": "Python 3 (ipykernel)",
   "language": "python",
   "name": "python3"
  },
  "language_info": {
   "codemirror_mode": {
    "name": "ipython",
    "version": 3
   },
   "file_extension": ".py",
   "mimetype": "text/x-python",
   "name": "python",
   "nbconvert_exporter": "python",
   "pygments_lexer": "ipython3",
   "version": "3.10.0"
  }
 },
 "nbformat": 4,
 "nbformat_minor": 5
}
